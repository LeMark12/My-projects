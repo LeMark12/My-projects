{
 "cells": [
  {
   "cell_type": "markdown",
   "metadata": {},
   "source": [
    "# This is a heading. Put some text here to describe what the document is. Note that it is a markdown cell and the hash at the beginning notes it as a heading."
   ]
  },
  {
   "cell_type": "markdown",
   "metadata": {},
   "source": [
    "This is markdown. You can write in plain text here. Put a paragraph or two here explaining the purpose of this report and giving some introduction into what you are planning to do."
   ]
  },
  {
   "cell_type": "code",
   "execution_count": 2,
   "metadata": {},
   "outputs": [],
   "source": [
    "#this is a code cell. Write the code that you want to do things in it. Leave some comments with the code to \n",
    "#explain what you are doing, where appropriate. \n",
    "\n",
    "myfile='movie_metadata.csv'\n",
    "#standard imports for when working with pandas\n",
    "import numpy as np\n",
    "%matplotlib inline\n",
    "from matplotlib import pyplot as plt\n",
    "import pandas as pd\n",
    "\n",
    "myfile = 'movie_metadata.csv'\n",
    "\n",
    "#read the movie metadata file into a dataframe in pandas.\n",
    "df = pd.read_csv(myfile,index_col=None)\n"
   ]
  },
  {
   "cell_type": "markdown",
   "metadata": {},
   "source": [
    "Here write the basic background to your exploration of the data. \n",
    "\n",
    "For example, a very brief explanation (you should explain to sufficient detail that a reader who knows nothing about the dataset understands what it is that you are doing): \n",
    "\n",
    "Here I sort the mean imdb score and budget across films by genre. Set a minimum imdb score and filter according to that. We are interested only in high scores so we are only looking at films with good ratings."
   ]
  },
  {
   "cell_type": "code",
   "execution_count": 5,
   "metadata": {},
   "outputs": [
    {
     "data": {
      "text/html": [
       "<div>\n",
       "<style scoped>\n",
       "    .dataframe tbody tr th:only-of-type {\n",
       "        vertical-align: middle;\n",
       "    }\n",
       "\n",
       "    .dataframe tbody tr th {\n",
       "        vertical-align: top;\n",
       "    }\n",
       "\n",
       "    .dataframe thead th {\n",
       "        text-align: right;\n",
       "    }\n",
       "</style>\n",
       "<table border=\"1\" class=\"dataframe\">\n",
       "  <thead>\n",
       "    <tr style=\"text-align: right;\">\n",
       "      <th></th>\n",
       "      <th>imdb_score</th>\n",
       "      <th>budget</th>\n",
       "    </tr>\n",
       "    <tr>\n",
       "      <th>genres</th>\n",
       "      <th></th>\n",
       "      <th></th>\n",
       "    </tr>\n",
       "  </thead>\n",
       "  <tbody>\n",
       "    <tr>\n",
       "      <th>Action|Adventure|Crime|Drama|Sci-Fi|Thriller</th>\n",
       "      <td>8.8</td>\n",
       "      <td>NaN</td>\n",
       "    </tr>\n",
       "    <tr>\n",
       "      <th>Action|Adventure|Biography|Drama|History</th>\n",
       "      <td>8.6</td>\n",
       "      <td>NaN</td>\n",
       "    </tr>\n",
       "    <tr>\n",
       "      <th>Action|Drama|History|Thriller|War</th>\n",
       "      <td>8.5</td>\n",
       "      <td>4400000.0</td>\n",
       "    </tr>\n",
       "    <tr>\n",
       "      <th>Adventure|Animation|Drama|Family|Musical</th>\n",
       "      <td>8.5</td>\n",
       "      <td>45000000.0</td>\n",
       "    </tr>\n",
       "    <tr>\n",
       "      <th>Crime|Drama|Fantasy|Mystery</th>\n",
       "      <td>8.5</td>\n",
       "      <td>60000000.0</td>\n",
       "    </tr>\n",
       "  </tbody>\n",
       "</table>\n",
       "</div>"
      ],
      "text/plain": [
       "                                              imdb_score      budget\n",
       "genres                                                              \n",
       "Action|Adventure|Crime|Drama|Sci-Fi|Thriller         8.8         NaN\n",
       "Action|Adventure|Biography|Drama|History             8.6         NaN\n",
       "Action|Drama|History|Thriller|War                    8.5   4400000.0\n",
       "Adventure|Animation|Drama|Family|Musical             8.5  45000000.0\n",
       "Crime|Drama|Fantasy|Mystery                          8.5  60000000.0"
      ]
     },
     "execution_count": 5,
     "metadata": {},
     "output_type": "execute_result"
    }
   ],
   "source": [
    "genreseries=df.groupby('genres')['imdb_score','budget'].mean()\n",
    "#set the minimum imdb score that I care about to 8\n",
    "min_imdb_score=8 \n",
    "top_rated_genre = genreseries[genreseries['imdb_score']>min_imdb_score]\n",
    "top_rated_genre = top_rated_genre.sort_values('imdb_score', ascending=False)\n",
    "#print the genres for inspection\n",
    "top_rated_genre.head()"
   ]
  },
  {
   "cell_type": "markdown",
   "metadata": {},
   "source": [
    "Explain what your findings are and what this means.\n",
    "\n",
    "E.g. (again an over simple explanation):\n",
    "\n",
    "There appears to be some well-rated genres that we could propose as better options to make a film. To examine if any of these good film genres can be made within our budget, I filtered by a maximum 500 000 and looked at the gross return."
   ]
  },
  {
   "cell_type": "code",
   "execution_count": 6,
   "metadata": {},
   "outputs": [
    {
     "data": {
      "text/html": [
       "<div>\n",
       "<style scoped>\n",
       "    .dataframe tbody tr th:only-of-type {\n",
       "        vertical-align: middle;\n",
       "    }\n",
       "\n",
       "    .dataframe tbody tr th {\n",
       "        vertical-align: top;\n",
       "    }\n",
       "\n",
       "    .dataframe thead th {\n",
       "        text-align: right;\n",
       "    }\n",
       "</style>\n",
       "<table border=\"1\" class=\"dataframe\">\n",
       "  <thead>\n",
       "    <tr style=\"text-align: right;\">\n",
       "      <th></th>\n",
       "      <th>imdb_score</th>\n",
       "      <th>budget</th>\n",
       "      <th>gross</th>\n",
       "    </tr>\n",
       "    <tr>\n",
       "      <th>genres</th>\n",
       "      <th></th>\n",
       "      <th></th>\n",
       "      <th></th>\n",
       "    </tr>\n",
       "  </thead>\n",
       "  <tbody>\n",
       "    <tr>\n",
       "      <th>Documentary|Family</th>\n",
       "      <td>8.200</td>\n",
       "      <td>125000.0</td>\n",
       "      <td>NaN</td>\n",
       "    </tr>\n",
       "    <tr>\n",
       "      <th>Crime|Documentary</th>\n",
       "      <td>8.000</td>\n",
       "      <td>200000.0</td>\n",
       "      <td>2156472.5</td>\n",
       "    </tr>\n",
       "    <tr>\n",
       "      <th>Documentary|History|Music</th>\n",
       "      <td>7.800</td>\n",
       "      <td>400000.0</td>\n",
       "      <td>6757592.5</td>\n",
       "    </tr>\n",
       "    <tr>\n",
       "      <th>Biography|Documentary|Music</th>\n",
       "      <td>7.525</td>\n",
       "      <td>300000.0</td>\n",
       "      <td>6531469.5</td>\n",
       "    </tr>\n",
       "    <tr>\n",
       "      <th>Biography|Documentary</th>\n",
       "      <td>7.300</td>\n",
       "      <td>25109.0</td>\n",
       "      <td>592014.0</td>\n",
       "    </tr>\n",
       "  </tbody>\n",
       "</table>\n",
       "</div>"
      ],
      "text/plain": [
       "                             imdb_score    budget      gross\n",
       "genres                                                      \n",
       "Documentary|Family                8.200  125000.0        NaN\n",
       "Crime|Documentary                 8.000  200000.0  2156472.5\n",
       "Documentary|History|Music         7.800  400000.0  6757592.5\n",
       "Biography|Documentary|Music       7.525  300000.0  6531469.5\n",
       "Biography|Documentary             7.300   25109.0   592014.0"
      ]
     },
     "execution_count": 6,
     "metadata": {},
     "output_type": "execute_result"
    }
   ],
   "source": [
    "#set the maximum possible budget to 500 000\n",
    "max_budget = 500000\n",
    "topgenreseries=df.groupby('genres')['imdb_score','budget','gross'].mean()\n",
    "#find the details of films with less than the maximum budget\n",
    "budget_genres = topgenreseries[topgenreseries['budget']<max_budget]\n",
    "budget_genres = budget_genres.sort_values('imdb_score',ascending=False)\n",
    "budget_genres.head()"
   ]
  },
  {
   "cell_type": "markdown",
   "metadata": {},
   "source": [
    "The Documentary|Family genre seems to be well-rated and within our budget. Taking a look at the details more closely we can see that there is actually only one film that meets the criteria of budget and imdb rating:"
   ]
  },
  {
   "cell_type": "code",
   "execution_count": 4,
   "metadata": {},
   "outputs": [
    {
     "data": {
      "text/html": [
       "<div>\n",
       "<style scoped>\n",
       "    .dataframe tbody tr th:only-of-type {\n",
       "        vertical-align: middle;\n",
       "    }\n",
       "\n",
       "    .dataframe tbody tr th {\n",
       "        vertical-align: top;\n",
       "    }\n",
       "\n",
       "    .dataframe thead th {\n",
       "        text-align: right;\n",
       "    }\n",
       "</style>\n",
       "<table border=\"1\" class=\"dataframe\">\n",
       "  <thead>\n",
       "    <tr style=\"text-align: right;\">\n",
       "      <th></th>\n",
       "      <th>color</th>\n",
       "      <th>director_name</th>\n",
       "      <th>num_critic_for_reviews</th>\n",
       "      <th>duration</th>\n",
       "      <th>director_facebook_likes</th>\n",
       "      <th>actor_3_facebook_likes</th>\n",
       "      <th>actor_2_name</th>\n",
       "      <th>actor_1_facebook_likes</th>\n",
       "      <th>gross</th>\n",
       "      <th>genres</th>\n",
       "      <th>...</th>\n",
       "      <th>num_user_for_reviews</th>\n",
       "      <th>language</th>\n",
       "      <th>country</th>\n",
       "      <th>content_rating</th>\n",
       "      <th>budget</th>\n",
       "      <th>title_year</th>\n",
       "      <th>actor_2_facebook_likes</th>\n",
       "      <th>imdb_score</th>\n",
       "      <th>aspect_ratio</th>\n",
       "      <th>movie_facebook_likes</th>\n",
       "    </tr>\n",
       "  </thead>\n",
       "  <tbody>\n",
       "    <tr>\n",
       "      <th>4945</th>\n",
       "      <td>Color</td>\n",
       "      <td>Amal Al-Agroobi</td>\n",
       "      <td>NaN</td>\n",
       "      <td>62.0</td>\n",
       "      <td>58.0</td>\n",
       "      <td>NaN</td>\n",
       "      <td>NaN</td>\n",
       "      <td>NaN</td>\n",
       "      <td>NaN</td>\n",
       "      <td>Documentary|Family</td>\n",
       "      <td>...</td>\n",
       "      <td>NaN</td>\n",
       "      <td>Arabic</td>\n",
       "      <td>United Arab Emirates</td>\n",
       "      <td>NaN</td>\n",
       "      <td>125000.0</td>\n",
       "      <td>2013.0</td>\n",
       "      <td>NaN</td>\n",
       "      <td>8.2</td>\n",
       "      <td>NaN</td>\n",
       "      <td>54</td>\n",
       "    </tr>\n",
       "  </tbody>\n",
       "</table>\n",
       "<p>1 rows × 28 columns</p>\n",
       "</div>"
      ],
      "text/plain": [
       "      color    director_name  num_critic_for_reviews  duration  \\\n",
       "4945  Color  Amal Al-Agroobi                     NaN      62.0   \n",
       "\n",
       "      director_facebook_likes  actor_3_facebook_likes actor_2_name  \\\n",
       "4945                     58.0                     NaN          NaN   \n",
       "\n",
       "      actor_1_facebook_likes  gross              genres         ...           \\\n",
       "4945                     NaN    NaN  Documentary|Family         ...            \n",
       "\n",
       "     num_user_for_reviews language               country  content_rating  \\\n",
       "4945                  NaN   Arabic  United Arab Emirates             NaN   \n",
       "\n",
       "        budget  title_year actor_2_facebook_likes imdb_score  aspect_ratio  \\\n",
       "4945  125000.0      2013.0                    NaN        8.2           NaN   \n",
       "\n",
       "     movie_facebook_likes  \n",
       "4945                   54  \n",
       "\n",
       "[1 rows x 28 columns]"
      ]
     },
     "execution_count": 4,
     "metadata": {},
     "output_type": "execute_result"
    }
   ],
   "source": [
    "df[df['genres']=='Documentary|Family']"
   ]
  },
  {
   "cell_type": "markdown",
   "metadata": {},
   "source": [
    "Go on here and do further exploratory analyses and some appropriate statistical analyses on appropriate hypotheses..."
   ]
  },
  {
   "cell_type": "markdown",
   "metadata": {},
   "source": [
    "# Summary"
   ]
  },
  {
   "cell_type": "markdown",
   "metadata": {},
   "source": [
    "In the summary, summarise what you have done, starting with restating the purpose:\n",
    "\n",
    "I examined the imdb data file to look for appropriate movies (again, use words appropriate in detail and content for what you have done).\n",
    "\n",
    "Report what you did and what you found:\n",
    "\n",
    "I examined the whether there was a specific genre of film that was generally well-rated and could be made within the proposed budget. I found that the films of the genre \"Documentary and Family\" met the criteria of budget and being well-rated. However, there was only one example of this type of film, so the inferences we can draw from this particular comparison are weak. (again, use text related to your analyses and hypotheses...)\n",
    "\n",
    "The report required a conclusion. Give one with your caveats and justifications:\n",
    "\n",
    "Based on the data analyses, I could recommend that the studio pursue making a film in the genre of family documentary in Arabic and releasing it in the United Arab Emirates market. However, as this conclusion is based upon a single film, it is not likely to be a good course of action."
   ]
  }
 ],
 "metadata": {
  "kernelspec": {
   "display_name": "Python 3",
   "language": "python",
   "name": "python3"
  },
  "language_info": {
   "codemirror_mode": {
    "name": "ipython",
    "version": 3
   },
   "file_extension": ".py",
   "mimetype": "text/x-python",
   "name": "python",
   "nbconvert_exporter": "python",
   "pygments_lexer": "ipython3",
   "version": "3.7.3"
  }
 },
 "nbformat": 4,
 "nbformat_minor": 2
}
